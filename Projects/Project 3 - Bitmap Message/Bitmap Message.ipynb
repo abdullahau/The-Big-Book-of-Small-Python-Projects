{
 "cells": [
  {
   "cell_type": "markdown",
   "metadata": {},
   "source": [
    "# Bitmap Message"
   ]
  },
  {
   "cell_type": "markdown",
   "metadata": {},
   "source": [
    "This program uses a multiline string as a bitmap, a 2D image with only two possible colors for each pixel, to determine how it should display a message from the user. In this bitmap, space characters represent an empty space, and all other characters are replaced by characters in the user’s message. The provided bitmap resembles a world map, but you can change this to any image you’d like. The binary simplicity of the space-or-message-characters system makes it good for beginners."
   ]
  },
  {
   "cell_type": "markdown",
   "metadata": {},
   "source": [
    "## The Program in Action\n",
    "\n",
    "When you run *bitmapmessage.py*, the output will look like this:\n",
    "\n",
    "```\n",
    "Bitmap Message, by Al Sweigart al@inventwithpython.com\n",
    "Enter the message to display with the bitmap.\n",
    "&gt; <b>Hello!</b>\n",
    "\n",
    "Hello!Hello!Hello!Hello!Hello!Hello!Hello!Hello!Hello!Hello!Hello!He\n",
    "   lo!Hello!Hello   l  !He lo  e      llo!Hello!Hello!Hello!Hello!He\n",
    "  llo!Hello!Hello!Hello He lo H  l !Hello!Hello!Hello!Hello!Hello H\n",
    " el      lo!Hello!Hello!He       lo!Hello!Hello!Hello!Hello!Hel\n",
    "          o!Hello!Hello          lo  e lo!H ll !Hello!Hello!H l\n",
    "           !Hello!He            llo!Hel   Hello!Hello!Hell ! e\n",
    "            Hello!He           ello!Hello!Hello!Hello!Hell  H\n",
    "   l        H llo! ell         ello!Hello!Hell !Hello  el o\n",
    "               lo!H  l         ello!Hello!Hell   ell !He  o\n",
    "                 !Hello         llo!Hello!Hel    el   He  o\n",
    "                 !Hello!H        lo!Hello!Hell    l  !H llo\n",
    "                   ello!Hel         Hello!He          H llo Hell\n",
    "                   ello!Hell         ello!H  l        Hell !H l o!\n",
    "                   ello!Hell         ello!H l o           o!H l   H\n",
    "                     lo!Hel          ello! el             o!Hel   H\n",
    "                     lo!He            llo! e            llo!Hell\n",
    "                    llo!H             llo!              llo!Hello\n",
    "                    llo!              ll                 lo!Hell   e\n",
    "                    llo                                       l    e\n",
    "                    ll     l                    H\n",
    "Hello!Hello!Hello!Hello!Hello!Hello!Hello!Hello!Hello!Hello!Hello!He\n",
    "```"
   ]
  },
  {
   "cell_type": "markdown",
   "metadata": {},
   "source": [
    "## Example"
   ]
  },
  {
   "cell_type": "code",
   "execution_count": null,
   "metadata": {},
   "outputs": [],
   "source": [
    "bitmap = '''\n",
    "....................................................................\n",
    "   **************   *  *** **  *      ******************************\n",
    "  ********************* ** ** *  * ****************************** *\n",
    " **      *****************       ******************************\n",
    "          *************          **  * **** ** ************** *\n",
    "           *********            *******   **************** * *\n",
    "            ********           ***************************  *\n",
    "   *        * **** ***         *************** ******  ** *\n",
    "               ****  *         ***************   *** ***  *\n",
    "                 ******         *************    **   **  *\n",
    "                 ********        *************    *  ** ***\n",
    "                   ********         ********          * *** ****\n",
    "                   *********         ******  *        **** ** * **\n",
    "                   *********         ****** * *           *** *   *\n",
    "                     ******          ***** **             *****   *\n",
    "                     *****            **** *            ********\n",
    "                    *****             ****              *********\n",
    "                    ****              **                 *******   *\n",
    "                    ***                                       *    *\n",
    "                    **     *                    *\n",
    "....................................................................'''"
   ]
  },
  {
   "cell_type": "code",
   "execution_count": 9,
   "metadata": {},
   "outputs": [
    {
     "name": "stdout",
     "output_type": "stream",
     "text": [
      "Bitmap Message, by Al Sweigart al@inventwithpython.com\n",
      "Enter the message to display with the bitmap.\n",
      "\n",
      "RehabRehabRehabRehabRehabRehabRehabRehabRehabRehabRehabRehabRehabReh\n",
      "   abRehabRehabRe   R  abR ha  e      abRehabRehabRehabRehabRehabReh\n",
      "  habRehabRehabRehabReh bR ha R  a RehabRehabRehabRehabRehabRehab e\n",
      " eh      bRehabRehabRehabR       abRehabRehabRehabRehabRehabReh\n",
      "          RehabRehabReh          ab  h bReh bR habRehabRehabR h\n",
      "           ehabRehab            habReha   habRehabRehabReh b e\n",
      "            habRehab           ehabRehabRehabRehabRehabReh  R\n",
      "   a        h bReh bRe         ehabRehabRehabR habReh  Re a\n",
      "               Reha  e         ehabRehabRehabR   bRe abR  a\n",
      "                 habReh         habRehabRehab    bR   bR  a\n",
      "                 habRehab        abRehabRehabR    R  ab eha\n",
      "                   bRehabRe         ehabReha          b eha Reha\n",
      "                   bRehabReh         habReh  R        bReh bR h bR\n",
      "                   bRehabReh         habReh b e           abR h   e\n",
      "                     ehabRe          habRe ab             abReh   e\n",
      "                     ehabR            abRe a            ehabReha\n",
      "                    Rehab             abRe              ehabRehab\n",
      "                    Reha              ab                 habReha   h\n",
      "                    Reh                                       h    h\n",
      "                    Re     h                    a\n",
      "RehabRehabRehabRehabRehabRehabRehabRehabRehabRehabRehabRehabRehabReh\n"
     ]
    }
   ],
   "source": [
    "import sys\n",
    "\n",
    "bitmap = \"\"\"\n",
    "....................................................................\n",
    "   **************   *  *** **  *      ******************************\n",
    "  ********************* ** ** *  * ****************************** *\n",
    " **      *****************       ******************************\n",
    "          *************          **  * **** ** ************** *\n",
    "           *********            *******   **************** * *\n",
    "            ********           ***************************  *\n",
    "   *        * **** ***         *************** ******  ** *\n",
    "               ****  *         ***************   *** ***  *\n",
    "                 ******         *************    **   **  *\n",
    "                 ********        *************    *  ** ***\n",
    "                   ********         ********          * *** ****\n",
    "                   *********         ******  *        **** ** * **\n",
    "                   *********         ****** * *           *** *   *\n",
    "                     ******          ***** **             *****   *\n",
    "                     *****            **** *            ********\n",
    "                    *****             ****              *********\n",
    "                    ****              **                 *******   *\n",
    "                    ***                                       *    *\n",
    "                    **     *                    *\n",
    "....................................................................\"\"\"\n",
    "\n",
    "print('Bitmap Message, by Al Sweigart al@inventwithpython.com')\n",
    "print('Enter the message to display with the bitmap.')\n",
    "message = input('> ')\n",
    "if message == '':\n",
    "    sys.exit()\n",
    "\n",
    "for line in bitmap.splitlines():\n",
    "    for i, bit in enumerate(line):\n",
    "        if bit == ' ':\n",
    "            print(' ', end='')\n",
    "        else:\n",
    "            print(message[i % len(message)], end='')\n",
    "    print()"
   ]
  }
 ],
 "metadata": {
  "kernelspec": {
   "display_name": "Python 3",
   "language": "python",
   "name": "python3"
  },
  "language_info": {
   "codemirror_mode": {
    "name": "ipython",
    "version": 3
   },
   "file_extension": ".py",
   "mimetype": "text/x-python",
   "name": "python",
   "nbconvert_exporter": "python",
   "pygments_lexer": "ipython3",
   "version": "3.12.4"
  }
 },
 "nbformat": 4,
 "nbformat_minor": 2
}
