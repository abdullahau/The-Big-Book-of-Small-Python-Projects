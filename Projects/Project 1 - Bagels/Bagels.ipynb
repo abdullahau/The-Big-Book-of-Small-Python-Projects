{
 "cells": [
  {
   "cell_type": "markdown",
   "metadata": {},
   "source": [
    "# Bagels"
   ]
  },
  {
   "cell_type": "markdown",
   "metadata": {},
   "source": [
    "In Bagels, a deductive logic game, you must guess a secret three-digit number based on clues. The game offers one of the following hints in response to your guess: “Pico” when your guess has a correct digit in the wrong place, “Fermi” when your guess has a correct digit in the correct place, and “Bagels” if your guess has no correct digits. You have 10 tries to guess the secret number.\n",
    "\n",
    "## The Program in Action\n",
    "\n",
    "When you run *bagels.py*, the output will look like this:\n",
    "\n",
    "```\n",
    "Bagels, a deductive logic game.\n",
    "By Al Sweigart al@inventwithpython.com\n",
    "I am thinking of a 3-digit number. Try to guess what it is.\n",
    "Here are some clues:\n",
    "When I say:    That means:\n",
    "  Pico         One digit is correct but in the wrong position.\n",
    "  Fermi        One digit is correct and in the right position.\n",
    "  Bagels       No digit is correct.\n",
    "I have thought up a number.\n",
    " You have 10 guesses to get it.\n",
    "Guess #1:\n",
    "> 123\n",
    "Pico\n",
    "Guess #2:\n",
    "> 456\n",
    "Bagels\n",
    "Guess #3:\n",
    "> 178\n",
    "Pico Pico\n",
    "--snip--\n",
    "Guess #7:\n",
    "> 791\n",
    "Fermi Fermi\n",
    "Guess #8:\n",
    "> 701\n",
    "You got it!\n",
    "Do you want to play again? (yes or no)\n",
    "> no\n",
    "Thanks for playing!\n",
    "```"
   ]
  }
 ],
 "metadata": {
  "language_info": {
   "name": "python"
  }
 },
 "nbformat": 4,
 "nbformat_minor": 2
}
