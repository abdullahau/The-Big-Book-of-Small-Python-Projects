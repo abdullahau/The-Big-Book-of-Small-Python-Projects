{
 "cells": [
  {
   "cell_type": "markdown",
   "metadata": {},
   "source": [
    "# Birthday Paradox"
   ]
  },
  {
   "cell_type": "markdown",
   "metadata": {},
   "source": [
    "The Birthday Paradox, also called the Birthday Problem, is the surprisingly high probability that two people will have the same birthday even in a small group of people. In a group of 70 people, there’s a 99.9 percent chance of two people having a matching birthday. But even in a group as small as 23 people, there’s a 50 percent chance of a matching birthday. This program performs several probability experiments to determine the percentages for groups of different sizes. We call these types of experiments, in which we conduct multiple random trials to understand the likely outcomes, Monte Carlo experiments.\n",
    "\n",
    "You can find out more about the Birthday Paradox at https://en.wikipedia.org/wiki/Birthday_problem."
   ]
  },
  {
   "cell_type": "markdown",
   "metadata": {},
   "source": [
    "## The Program in Action\n",
    "\n",
    "When you run `birthdayparadox.py`, the output will look like this:\n",
    "```\n",
    "Birthday Paradox, by Al Sweigart al@inventwithpython.com\n",
    "--snip--\n",
    "How many birthdays shall I generate? (Max 100)\n",
    "> 23\n",
    "Here are 23 birthdays:\n",
    "Oct 9, Sep 1, May 28, Jul 29, Feb 17, Jan 8, Aug 18, Feb 19, Dec 1, Jan 22,\n",
    "May 16, Sep 25, Oct 6, May 6, May 26, Oct 11, Dec 19, Jun 28, Jul 29, Dec 6,\n",
    "Nov 26, Aug 18, Mar 18\n",
    "In this simulation, multiple people have a birthday on Jul 29\n",
    "Generating 23 random birthdays 100,000 times...\n",
    "Press Enter to begin...\n",
    "Let's run another 100,000 simulations.\n",
    "0 simulations run...\n",
    "10000 simulations run...\n",
    "--snip--\n",
    "90000 simulations run...\n",
    "100000 simulations run.\n",
    "Out of 100,000 simulations of 23 people, there was a\n",
    "matching birthday in that group 50955 times. This means\n",
    "that 23 people have a 50.95 % chance of\n",
    "having a matching birthday in their group.\n",
    "That's probably more than you would think!\n",
    "```"
   ]
  }
 ],
 "metadata": {
  "language_info": {
   "name": "python"
  }
 },
 "nbformat": 4,
 "nbformat_minor": 2
}
